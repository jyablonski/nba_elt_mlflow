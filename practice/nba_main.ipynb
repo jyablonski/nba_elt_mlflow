{
 "cells": [
  {
   "cell_type": "code",
   "execution_count": 1,
   "metadata": {},
   "outputs": [],
   "source": [
    "# run(nba, model=SVC(random_state=0))\n",
    "import datetime\n",
    "import string\n",
    "from joblib import load\n",
    "import numpy as np\n",
    "import pandas as pd\n",
    "from sklearn.svm import LinearSVC\n",
    "from sklearn.linear_model import LogisticRegression\n",
    "from sklearn.ensemble import RandomForestClassifier\n",
    "from sklearn.svm import SVC\n",
    "from sklearn.metrics import accuracy_score, log_loss, recall_score, precision_score\n",
    "from sklearn.pipeline import Pipeline\n",
    "from sklearn.preprocessing import MinMaxScaler, LabelEncoder\n",
    "from sklearn.model_selection import train_test_split\n",
    "import mlflow\n",
    "import mlflow.sklearn\n",
    "import matplotlib.pyplot as plt\n",
    "from utils import *\n",
    "\n",
    "# run(nba, model=SVC(random_state=0))\n",
    "# Tuned SVC - rbf kernel\n",
    "# model = SVC(kernel=kernels[0], random_state=0)\n",
    "# run(nba, model=model)"
   ]
  },
  {
   "cell_type": "code",
   "execution_count": 3,
   "metadata": {},
   "outputs": [],
   "source": [
    "conn = sql_connection('ml_models')\n",
    "past_games = pd.read_sql_query('select * from ml_past_games', conn)\n",
    "tonights_games = pd.read_sql_query('select * from ml_tonights_games', conn)\n",
    "completed_ml = pd.read_sql_query('select * from tonights_games_ml', conn)\n",
    "\n",
    "past_games_full = pd.read_sql_query('select * from ml_past_games', conn)\n",
    "tonights_games_full = pd.read_sql_query('select * from ml_tonights_games', conn).sort_values('home_team_avg_pts_scored')\n",
    "tonights_games = tonights_games_full.drop(['home_team', 'away_team', 'proper_date', 'outcome'], axis = 1)\n",
    "# completed_games = completed_games.to_numpy()\n",
    "# tonights_games = tonights_games.to_numpy()\n",
    "\n",
    "past_games = pd.read_sql_query('select * from ml_past_games', conn)\n",
    "past_games_outcome = past_games['outcome']\n",
    "past_games = past_games.drop(['home_team', 'away_team', 'proper_date', 'outcome'], axis = 1)\n",
    "\n",
    "past_games_outcome = past_games_outcome.to_numpy()\n",
    "past_games = past_games.to_numpy()"
   ]
  },
  {
   "cell_type": "code",
   "execution_count": 4,
   "metadata": {},
   "outputs": [
    {
     "name": "stdout",
     "output_type": "stream",
     "text": [
      "Linear SVC score was 0.45658835546475995\n",
      "SVC score was 0.6670071501532175\n",
      "Logistic Regression score was 0.6772216547497446\n"
     ]
    },
    {
     "name": "stderr",
     "output_type": "stream",
     "text": [
      "/home/jacob/.local/share/virtualenvs/mlflow_prac-rRmHmFzQ/lib/python3.8/site-packages/sklearn/svm/_base.py:1206: ConvergenceWarning: Liblinear failed to converge, increase the number of iterations.\n",
      "  warnings.warn(\n",
      "/home/jacob/.local/share/virtualenvs/mlflow_prac-rRmHmFzQ/lib/python3.8/site-packages/sklearn/linear_model/_logistic.py:814: ConvergenceWarning: lbfgs failed to converge (status=1):\n",
      "STOP: TOTAL NO. of ITERATIONS REACHED LIMIT.\n",
      "\n",
      "Increase the number of iterations (max_iter) or scale the data as shown in:\n",
      "    https://scikit-learn.org/stable/modules/preprocessing.html\n",
      "Please also refer to the documentation for alternative solver options:\n",
      "    https://scikit-learn.org/stable/modules/linear_model.html#logistic-regression\n",
      "  n_iter_i = _check_optimize_result(\n"
     ]
    }
   ],
   "source": [
    "clf_linear_svc = LinearSVC(random_state=0).fit(past_games, past_games_outcome)\n",
    "clf_svc = SVC(random_state=0).fit(past_games, past_games_outcome)\n",
    "clf = LogisticRegression(random_state=0).fit(past_games, past_games_outcome)\n",
    "\n",
    "print(f\"Linear SVC score was {clf_linear_svc.score(past_games, past_games_outcome)}\")\n",
    "print(f\"SVC score was {clf_svc.score(past_games, past_games_outcome)}\")\n",
    "print(f\"Logistic Regression score was {clf.score(past_games, past_games_outcome)}\")"
   ]
  },
  {
   "cell_type": "code",
   "execution_count": null,
   "metadata": {},
   "outputs": [],
   "source": []
  },
  {
   "cell_type": "code",
   "execution_count": 5,
   "metadata": {},
   "outputs": [
    {
     "data": {
      "text/plain": [
       "['log_model.joblib']"
      ]
     },
     "execution_count": 5,
     "metadata": {},
     "output_type": "execute_result"
    }
   ],
   "source": [
    "# import pickle\n",
    "# clf_linear_svc_pickle = pickle.dumps(clf_linear_svc)\n",
    "# clf_linear_svc_pickle = pickle.loads(clf_linear_svc_pickle)\n",
    "\n",
    "from joblib import dump, load # more efficient for large numpy arrays\n",
    "dump(clf, 'log_model.joblib') \n",
    "# dump(clf_linear_svc, 'clf_linear_svc_model.joblib') \n",
    "# dump(clf_svc, 'clf_svc_model.joblib')"
   ]
  },
  {
   "cell_type": "code",
   "execution_count": 7,
   "metadata": {},
   "outputs": [
    {
     "data": {
      "text/plain": [
       "0.6772216547497446"
      ]
     },
     "execution_count": 7,
     "metadata": {},
     "output_type": "execute_result"
    }
   ],
   "source": [
    "clf = load('log_model.joblib')\n",
    "clf.score(past_games, past_games_outcome)"
   ]
  },
  {
   "cell_type": "code",
   "execution_count": null,
   "metadata": {},
   "outputs": [],
   "source": [
    "clf_svc = LogisticRegression(random_state=0).fit(past_games, past_games_outcome)\n",
    "clf_svc.score(past_games, past_games_outcome)"
   ]
  },
  {
   "cell_type": "code",
   "execution_count": 44,
   "metadata": {},
   "outputs": [
    {
     "name": "stdout",
     "output_type": "stream",
     "text": [
      "[-0.04978847  0.04070776 -0.0367953   0.00377045  0.00076865  0.30607929\n",
      "  0.06662241 -0.01126052  0.00899668 -0.0153359  -0.00437527 -0.46615876]\n"
     ]
    }
   ],
   "source": [
    "# feature importance\n",
    "importance = clf.coef_[0]\n",
    "print(importance)"
   ]
  },
  {
   "cell_type": "code",
   "execution_count": 5,
   "metadata": {},
   "outputs": [
    {
     "name": "stderr",
     "output_type": "stream",
     "text": [
      "/home/jacob/.local/share/virtualenvs/mlflow_prac-rRmHmFzQ/lib/python3.8/site-packages/sklearn/base.py:443: UserWarning: X has feature names, but LogisticRegression was fitted without feature names\n",
      "  warnings.warn(\n"
     ]
    },
    {
     "data": {
      "text/plain": [
       "array([1, 0, 0, 1, 1, 1])"
      ]
     },
     "execution_count": 5,
     "metadata": {},
     "output_type": "execute_result"
    }
   ],
   "source": [
    "clf.predict(tonights_games)"
   ]
  },
  {
   "cell_type": "code",
   "execution_count": 6,
   "metadata": {},
   "outputs": [
    {
     "name": "stderr",
     "output_type": "stream",
     "text": [
      "/home/jacob/.local/share/virtualenvs/mlflow_prac-rRmHmFzQ/lib/python3.8/site-packages/sklearn/base.py:443: UserWarning: X has feature names, but LogisticRegression was fitted without feature names\n",
      "  warnings.warn(\n"
     ]
    },
    {
     "data": {
      "text/plain": [
       "array([[0.22881564, 0.77118436],\n",
       "       [0.59036812, 0.40963188],\n",
       "       [0.72943658, 0.27056342],\n",
       "       [0.17054731, 0.82945269],\n",
       "       [0.29047694, 0.70952306],\n",
       "       [0.36025145, 0.63974855]])"
      ]
     },
     "execution_count": 6,
     "metadata": {},
     "output_type": "execute_result"
    }
   ],
   "source": [
    "clf.predict_proba(tonights_games)"
   ]
  },
  {
   "cell_type": "code",
   "execution_count": 68,
   "metadata": {},
   "outputs": [
    {
     "name": "stderr",
     "output_type": "stream",
     "text": [
      "/home/jacob/.local/share/virtualenvs/mlflow_prac-rRmHmFzQ/lib/python3.8/site-packages/sklearn/base.py:443: UserWarning: X has feature names, but LogisticRegression was fitted without feature names\n",
      "  warnings.warn(\n"
     ]
    }
   ],
   "source": [
    "tonights_ml = pd.DataFrame(clf.predict_proba(tonights_games)).rename(columns = {0: \"away_team_predicted_win_pct\", 1: \"home_team_predicted_win_pct\"})\n",
    "\n",
    "tonights_games_final = tonights_games_full.reset_index().drop('outcome', axis = 1)\n",
    "\n",
    "tonights_games_final['home_team_predicted_win_pct'] = tonights_ml['home_team_predicted_win_pct'].round(3)\n",
    "tonights_games_final['away_team_predicted_win_pct'] = tonights_ml['away_team_predicted_win_pct'].round(3)"
   ]
  },
  {
   "cell_type": "code",
   "execution_count": 26,
   "metadata": {},
   "outputs": [
    {
     "data": {
      "text/plain": [
       "Pipeline(steps=[('scaler', MinMaxScaler()), ('model', LogisticRegression())])"
      ]
     },
     "execution_count": 26,
     "metadata": {},
     "output_type": "execute_result"
    }
   ],
   "source": [
    "################### mlflow\n",
    "model_pipeline = Pipeline(steps=[('scaler', MinMaxScaler()), ('model', LogisticRegression())])\n",
    "model_pipeline.fit(past_games, past_games_outcome)"
   ]
  },
  {
   "cell_type": "code",
   "execution_count": 22,
   "metadata": {},
   "outputs": [],
   "source": [
    "df = (pd.DataFrame(past_games_outcome).iloc[:-1, :]).to_numpy()"
   ]
  },
  {
   "cell_type": "code",
   "execution_count": 25,
   "metadata": {},
   "outputs": [
    {
     "name": "stdout",
     "output_type": "stream",
     "text": [
      "Active run_id: 3ea24ad2ef044a69a22855ae00f6b3af\n"
     ]
    },
    {
     "name": "stderr",
     "output_type": "stream",
     "text": [
      "/home/jacob/.local/share/virtualenvs/mlflow_prac-rRmHmFzQ/lib/python3.8/site-packages/sklearn/utils/validation.py:993: DataConversionWarning: A column-vector y was passed when a 1d array was expected. Please change the shape of y to (n_samples, ), for example using ravel().\n",
      "  y = column_or_1d(y, warn=True)\n",
      "/home/jacob/.local/share/virtualenvs/mlflow_prac-rRmHmFzQ/lib/python3.8/site-packages/sklearn/linear_model/_logistic.py:814: ConvergenceWarning: lbfgs failed to converge (status=1):\n",
      "STOP: TOTAL NO. of ITERATIONS REACHED LIMIT.\n",
      "\n",
      "Increase the number of iterations (max_iter) or scale the data as shown in:\n",
      "    https://scikit-learn.org/stable/modules/preprocessing.html\n",
      "Please also refer to the documentation for alternative solver options:\n",
      "    https://scikit-learn.org/stable/modules/linear_model.html#logistic-regression\n",
      "  n_iter_i = _check_optimize_result(\n"
     ]
    },
    {
     "ename": "ValueError",
     "evalue": "Found input variables with inconsistent numbers of samples: [475, 474]",
     "output_type": "error",
     "traceback": [
      "\u001b[0;31m---------------------------------------------------------------------------\u001b[0m",
      "\u001b[0;31mValueError\u001b[0m                                Traceback (most recent call last)",
      "\u001b[1;32m/home/jacob/Documents/nba_elt_mlflow/practice/nba_main.ipynb Cell 14'\u001b[0m in \u001b[0;36m<cell line: 12>\u001b[0;34m()\u001b[0m\n\u001b[1;32m     <a href='vscode-notebook-cell:/home/jacob/Documents/nba_elt_mlflow/practice/nba_main.ipynb#ch0000011?line=30'>31</a>\u001b[0m clf\u001b[39m.\u001b[39mfit(X_train, y_train)\n\u001b[1;32m     <a href='vscode-notebook-cell:/home/jacob/Documents/nba_elt_mlflow/practice/nba_main.ipynb#ch0000011?line=32'>33</a>\u001b[0m y_pred \u001b[39m=\u001b[39m clf\u001b[39m.\u001b[39mpredict(X_train)\n\u001b[0;32m---> <a href='vscode-notebook-cell:/home/jacob/Documents/nba_elt_mlflow/practice/nba_main.ipynb#ch0000011?line=33'>34</a>\u001b[0m acc \u001b[39m=\u001b[39m accuracy_score(y_test, y_pred)\n\u001b[1;32m     <a href='vscode-notebook-cell:/home/jacob/Documents/nba_elt_mlflow/practice/nba_main.ipynb#ch0000011?line=34'>35</a>\u001b[0m mlflow\u001b[39m.\u001b[39mlog_metric(\u001b[39m\"\u001b[39m\u001b[39mtesting data accuracy\u001b[39m\u001b[39m\"\u001b[39m, acc)\n\u001b[1;32m     <a href='vscode-notebook-cell:/home/jacob/Documents/nba_elt_mlflow/practice/nba_main.ipynb#ch0000011?line=36'>37</a>\u001b[0m y_pred \u001b[39m=\u001b[39m clf\u001b[39m.\u001b[39mpredict(X_test)\n",
      "File \u001b[0;32m~/.local/share/virtualenvs/mlflow_prac-rRmHmFzQ/lib/python3.8/site-packages/sklearn/metrics/_classification.py:211\u001b[0m, in \u001b[0;36maccuracy_score\u001b[0;34m(y_true, y_pred, normalize, sample_weight)\u001b[0m\n\u001b[1;32m    <a href='file:///home/jacob/.local/share/virtualenvs/mlflow_prac-rRmHmFzQ/lib/python3.8/site-packages/sklearn/metrics/_classification.py?line=144'>145</a>\u001b[0m \u001b[39m\"\"\"Accuracy classification score.\u001b[39;00m\n\u001b[1;32m    <a href='file:///home/jacob/.local/share/virtualenvs/mlflow_prac-rRmHmFzQ/lib/python3.8/site-packages/sklearn/metrics/_classification.py?line=145'>146</a>\u001b[0m \n\u001b[1;32m    <a href='file:///home/jacob/.local/share/virtualenvs/mlflow_prac-rRmHmFzQ/lib/python3.8/site-packages/sklearn/metrics/_classification.py?line=146'>147</a>\u001b[0m \u001b[39mIn multilabel classification, this function computes subset accuracy:\u001b[39;00m\n\u001b[0;32m   (...)\u001b[0m\n\u001b[1;32m    <a href='file:///home/jacob/.local/share/virtualenvs/mlflow_prac-rRmHmFzQ/lib/python3.8/site-packages/sklearn/metrics/_classification.py?line=206'>207</a>\u001b[0m \u001b[39m0.5\u001b[39;00m\n\u001b[1;32m    <a href='file:///home/jacob/.local/share/virtualenvs/mlflow_prac-rRmHmFzQ/lib/python3.8/site-packages/sklearn/metrics/_classification.py?line=207'>208</a>\u001b[0m \u001b[39m\"\"\"\u001b[39;00m\n\u001b[1;32m    <a href='file:///home/jacob/.local/share/virtualenvs/mlflow_prac-rRmHmFzQ/lib/python3.8/site-packages/sklearn/metrics/_classification.py?line=209'>210</a>\u001b[0m \u001b[39m# Compute accuracy for each possible representation\u001b[39;00m\n\u001b[0;32m--> <a href='file:///home/jacob/.local/share/virtualenvs/mlflow_prac-rRmHmFzQ/lib/python3.8/site-packages/sklearn/metrics/_classification.py?line=210'>211</a>\u001b[0m y_type, y_true, y_pred \u001b[39m=\u001b[39m _check_targets(y_true, y_pred)\n\u001b[1;32m    <a href='file:///home/jacob/.local/share/virtualenvs/mlflow_prac-rRmHmFzQ/lib/python3.8/site-packages/sklearn/metrics/_classification.py?line=211'>212</a>\u001b[0m check_consistent_length(y_true, y_pred, sample_weight)\n\u001b[1;32m    <a href='file:///home/jacob/.local/share/virtualenvs/mlflow_prac-rRmHmFzQ/lib/python3.8/site-packages/sklearn/metrics/_classification.py?line=212'>213</a>\u001b[0m \u001b[39mif\u001b[39;00m y_type\u001b[39m.\u001b[39mstartswith(\u001b[39m\"\u001b[39m\u001b[39mmultilabel\u001b[39m\u001b[39m\"\u001b[39m):\n",
      "File \u001b[0;32m~/.local/share/virtualenvs/mlflow_prac-rRmHmFzQ/lib/python3.8/site-packages/sklearn/metrics/_classification.py:84\u001b[0m, in \u001b[0;36m_check_targets\u001b[0;34m(y_true, y_pred)\u001b[0m\n\u001b[1;32m     <a href='file:///home/jacob/.local/share/virtualenvs/mlflow_prac-rRmHmFzQ/lib/python3.8/site-packages/sklearn/metrics/_classification.py?line=56'>57</a>\u001b[0m \u001b[39mdef\u001b[39;00m \u001b[39m_check_targets\u001b[39m(y_true, y_pred):\n\u001b[1;32m     <a href='file:///home/jacob/.local/share/virtualenvs/mlflow_prac-rRmHmFzQ/lib/python3.8/site-packages/sklearn/metrics/_classification.py?line=57'>58</a>\u001b[0m     \u001b[39m\"\"\"Check that y_true and y_pred belong to the same classification task.\u001b[39;00m\n\u001b[1;32m     <a href='file:///home/jacob/.local/share/virtualenvs/mlflow_prac-rRmHmFzQ/lib/python3.8/site-packages/sklearn/metrics/_classification.py?line=58'>59</a>\u001b[0m \n\u001b[1;32m     <a href='file:///home/jacob/.local/share/virtualenvs/mlflow_prac-rRmHmFzQ/lib/python3.8/site-packages/sklearn/metrics/_classification.py?line=59'>60</a>\u001b[0m \u001b[39m    This converts multiclass or binary types to a common shape, and raises a\u001b[39;00m\n\u001b[0;32m   (...)\u001b[0m\n\u001b[1;32m     <a href='file:///home/jacob/.local/share/virtualenvs/mlflow_prac-rRmHmFzQ/lib/python3.8/site-packages/sklearn/metrics/_classification.py?line=81'>82</a>\u001b[0m \u001b[39m    y_pred : array or indicator matrix\u001b[39;00m\n\u001b[1;32m     <a href='file:///home/jacob/.local/share/virtualenvs/mlflow_prac-rRmHmFzQ/lib/python3.8/site-packages/sklearn/metrics/_classification.py?line=82'>83</a>\u001b[0m \u001b[39m    \"\"\"\u001b[39;00m\n\u001b[0;32m---> <a href='file:///home/jacob/.local/share/virtualenvs/mlflow_prac-rRmHmFzQ/lib/python3.8/site-packages/sklearn/metrics/_classification.py?line=83'>84</a>\u001b[0m     check_consistent_length(y_true, y_pred)\n\u001b[1;32m     <a href='file:///home/jacob/.local/share/virtualenvs/mlflow_prac-rRmHmFzQ/lib/python3.8/site-packages/sklearn/metrics/_classification.py?line=84'>85</a>\u001b[0m     type_true \u001b[39m=\u001b[39m type_of_target(y_true)\n\u001b[1;32m     <a href='file:///home/jacob/.local/share/virtualenvs/mlflow_prac-rRmHmFzQ/lib/python3.8/site-packages/sklearn/metrics/_classification.py?line=85'>86</a>\u001b[0m     type_pred \u001b[39m=\u001b[39m type_of_target(y_pred)\n",
      "File \u001b[0;32m~/.local/share/virtualenvs/mlflow_prac-rRmHmFzQ/lib/python3.8/site-packages/sklearn/utils/validation.py:332\u001b[0m, in \u001b[0;36mcheck_consistent_length\u001b[0;34m(*arrays)\u001b[0m\n\u001b[1;32m    <a href='file:///home/jacob/.local/share/virtualenvs/mlflow_prac-rRmHmFzQ/lib/python3.8/site-packages/sklearn/utils/validation.py?line=329'>330</a>\u001b[0m uniques \u001b[39m=\u001b[39m np\u001b[39m.\u001b[39munique(lengths)\n\u001b[1;32m    <a href='file:///home/jacob/.local/share/virtualenvs/mlflow_prac-rRmHmFzQ/lib/python3.8/site-packages/sklearn/utils/validation.py?line=330'>331</a>\u001b[0m \u001b[39mif\u001b[39;00m \u001b[39mlen\u001b[39m(uniques) \u001b[39m>\u001b[39m \u001b[39m1\u001b[39m:\n\u001b[0;32m--> <a href='file:///home/jacob/.local/share/virtualenvs/mlflow_prac-rRmHmFzQ/lib/python3.8/site-packages/sklearn/utils/validation.py?line=331'>332</a>\u001b[0m     \u001b[39mraise\u001b[39;00m \u001b[39mValueError\u001b[39;00m(\n\u001b[1;32m    <a href='file:///home/jacob/.local/share/virtualenvs/mlflow_prac-rRmHmFzQ/lib/python3.8/site-packages/sklearn/utils/validation.py?line=332'>333</a>\u001b[0m         \u001b[39m\"\u001b[39m\u001b[39mFound input variables with inconsistent numbers of samples: \u001b[39m\u001b[39m%r\u001b[39;00m\u001b[39m\"\u001b[39m\n\u001b[1;32m    <a href='file:///home/jacob/.local/share/virtualenvs/mlflow_prac-rRmHmFzQ/lib/python3.8/site-packages/sklearn/utils/validation.py?line=333'>334</a>\u001b[0m         \u001b[39m%\u001b[39m [\u001b[39mint\u001b[39m(l) \u001b[39mfor\u001b[39;00m l \u001b[39min\u001b[39;00m lengths]\n\u001b[1;32m    <a href='file:///home/jacob/.local/share/virtualenvs/mlflow_prac-rRmHmFzQ/lib/python3.8/site-packages/sklearn/utils/validation.py?line=334'>335</a>\u001b[0m     )\n",
      "\u001b[0;31mValueError\u001b[0m: Found input variables with inconsistent numbers of samples: [475, 474]"
     ]
    }
   ],
   "source": [
    "# run mlflow ui in nba_elt_mlflow/practice\n",
    "# https://medium.com/analytics-vidhya/machine-learning-model-workflow-and-tracking-using-mlflow-777c1df0a4cc\n",
    "# ml flow tracks the model, the training/test data acurracy, the parameters, and the tags\n",
    "past_games_df = pd.DataFrame(past_games)\n",
    "past_games_df.to_csv('past_games.csv', index = False)\n",
    "\n",
    "X_train, X_test, y_train, y_test = train_test_split(past_games, past_games_outcome, test_size=0.5)\n",
    "mlflow.set_experiment(\"Test mlflow feature\")\n",
    "with mlflow.start_run():\n",
    "    run = mlflow.active_run()\n",
    "    run_id = run.info.run_id\n",
    "    print(f\"Active run_id: {run.info.run_id}\")\n",
    "\n",
    "    # dont do this\n",
    "    # mlflow.set_tag(\"tag\",\"nba_elt_pipeline\")\n",
    "    # mlflow.set_tag(\"tag\",\"prod\")\n",
    "    mlflow.set_tags({\"version\": \"1.0.0\",\n",
    "                    \"project\": \"nba_elt_pipeline\",\n",
    "                    \"run_type\": \"prod\",\n",
    "    })\n",
    "\n",
    "    mlflow.log_artifact(\"past_games.csv\", artifact_path=\"features\")\n",
    "\n",
    "    clf = RandomForestClassifier(n_estimators=12, random_state=0)\n",
    "\n",
    "    mlflow.log_param(\"number of estimators\", 12)\n",
    "\n",
    "    clf.fit(X_train, y_train)\n",
    "\n",
    "    y_pred = clf.predict(X_train)\n",
    "    acc = accuracy_score(y_test, y_pred)\n",
    "    mlflow.log_metric(\"testing data accuracy\", acc)\n",
    "\n",
    "    y_pred = clf.predict(X_test)\n",
    "\n",
    "    acc = accuracy_score(y_test, y_pred)\n",
    "\n",
    "    mlflow.log_metric(\"training data accuracy\",acc)\n",
    "\n",
    "    mlflow.sklearn.log_model(clf, artifact_path=\"sklearn-model\")"
   ]
  },
  {
   "cell_type": "code",
   "execution_count": 12,
   "metadata": {},
   "outputs": [
    {
     "data": {
      "text/plain": [
       "0.5732484076433121"
      ]
     },
     "execution_count": 12,
     "metadata": {},
     "output_type": "execute_result"
    }
   ],
   "source": [
    "acc"
   ]
  },
  {
   "cell_type": "code",
   "execution_count": 29,
   "metadata": {},
   "outputs": [
    {
     "name": "stdout",
     "output_type": "stream",
     "text": [
      "The predicted value is [1]\n"
     ]
    }
   ],
   "source": [
    "# logged_model = f\"mlruns/1/{run_id}/artifacts/sklearn-model/MLmodel\"\n",
    "sample1 = past_games[0].reshape(1, -1)\n",
    "logged_model = f\"mlruns/1/ff269f383b484c92b9e0b69aa1f8a826/artifacts/sklearn-model\"\n",
    "loaded_model = mlflow.pyfunc.load_model(logged_model)\n",
    "\n",
    "sample=sample1\n",
    "y_pred=loaded_model.predict(sample)\n",
    "print(f\"The predicted value is {y_pred}\")"
   ]
  }
 ],
 "metadata": {
  "interpreter": {
   "hash": "a61b151ffcd4a3c208c6f67928ef35857e58796994cc938237a523383dff623c"
  },
  "kernelspec": {
   "display_name": "Python 3.8.10 ('mlflow_prac-rRmHmFzQ')",
   "language": "python",
   "name": "python3"
  },
  "language_info": {
   "codemirror_mode": {
    "name": "ipython",
    "version": 3
   },
   "file_extension": ".py",
   "mimetype": "text/x-python",
   "name": "python",
   "nbconvert_exporter": "python",
   "pygments_lexer": "ipython3",
   "version": "3.8.10"
  },
  "orig_nbformat": 4
 },
 "nbformat": 4,
 "nbformat_minor": 2
}
