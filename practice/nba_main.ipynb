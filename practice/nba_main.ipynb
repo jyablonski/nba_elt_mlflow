{
 "cells": [
  {
   "cell_type": "code",
   "execution_count": 1,
   "metadata": {},
   "outputs": [],
   "source": [
    "# run(nba, model=SVC(random_state=0))\n",
    "import datetime\n",
    "import string\n",
    "import numpy as np\n",
    "import pandas as pd\n",
    "from sklearn.svm import LinearSVC\n",
    "from sklearn.svm import SVC\n",
    "from sklearn.metrics import accuracy_score\n",
    "import matplotlib.pyplot as plt\n",
    "from utils import *\n",
    "\n",
    "# run(nba, model=SVC(random_state=0))\n",
    "# Tuned SVC - rbf kernel\n",
    "# model = SVC(kernel=kernels[0], random_state=0)\n",
    "# run(nba, model=model)"
   ]
  },
  {
   "cell_type": "code",
   "execution_count": 7,
   "metadata": {},
   "outputs": [
    {
     "name": "stderr",
     "output_type": "stream",
     "text": [
      "/home/jacob/.local/share/virtualenvs/mlflow_prac-rRmHmFzQ/lib/python3.8/site-packages/sklearn/linear_model/_logistic.py:814: ConvergenceWarning: lbfgs failed to converge (status=1):\n",
      "STOP: TOTAL NO. of ITERATIONS REACHED LIMIT.\n",
      "\n",
      "Increase the number of iterations (max_iter) or scale the data as shown in:\n",
      "    https://scikit-learn.org/stable/modules/preprocessing.html\n",
      "Please also refer to the documentation for alternative solver options:\n",
      "    https://scikit-learn.org/stable/modules/linear_model.html#logistic-regression\n",
      "  n_iter_i = _check_optimize_result(\n"
     ]
    }
   ],
   "source": [
    "from sklearn.datasets import load_iris\n",
    "from sklearn.linear_model import LogisticRegression\n",
    "X, y = load_iris(return_X_y=True)\n",
    "clf = LogisticRegression(random_state=0).fit(X, y)"
   ]
  },
  {
   "cell_type": "code",
   "execution_count": 9,
   "metadata": {},
   "outputs": [],
   "source": [
    "conn = sql_connection('ml_models')\n",
    "past_games = pd.read_sql_query('select * from ml_past_games', conn)\n",
    "tonights_games = pd.read_sql_query('select * from ml_tonights_games', conn)\n",
    "\n",
    "# completed_games = completed_games.to_numpy()\n",
    "# tonights_games = tonights_games.to_numpy()"
   ]
  },
  {
   "cell_type": "code",
   "execution_count": 31,
   "metadata": {},
   "outputs": [],
   "source": [
    "past_games_full = pd.read_sql_query('select * from ml_past_games', conn)\n",
    "tonights_games_full = pd.read_sql_query('select * from ml_tonights_games', conn).sort_values('home_team_avg_pts_scored')"
   ]
  },
  {
   "cell_type": "code",
   "execution_count": 32,
   "metadata": {},
   "outputs": [],
   "source": [
    "tonights_games = tonights_games_full.drop(['home_team', 'away_team', 'proper_date', 'outcome'], axis = 1)"
   ]
  },
  {
   "cell_type": "code",
   "execution_count": null,
   "metadata": {},
   "outputs": [],
   "source": []
  },
  {
   "cell_type": "code",
   "execution_count": 33,
   "metadata": {},
   "outputs": [],
   "source": [
    "past_games = pd.read_sql_query('select * from ml_past_games', conn)\n",
    "past_games_outcome = past_games['outcome']\n",
    "past_games = past_games.drop(['home_team', 'away_team', 'proper_date', 'outcome'], axis = 1)\n",
    "\n",
    "past_games_outcome = past_games_outcome.to_numpy()\n",
    "past_games = past_games.to_numpy()"
   ]
  },
  {
   "cell_type": "code",
   "execution_count": 34,
   "metadata": {},
   "outputs": [
    {
     "data": {
      "text/plain": [
       "0.6609625668449198"
      ]
     },
     "execution_count": 34,
     "metadata": {},
     "output_type": "execute_result"
    }
   ],
   "source": [
    "clf = LogisticRegression(random_state=0).fit(past_games, past_games_outcome)\n",
    "clf.score(past_games, past_games_outcome)"
   ]
  },
  {
   "cell_type": "code",
   "execution_count": 44,
   "metadata": {},
   "outputs": [
    {
     "name": "stdout",
     "output_type": "stream",
     "text": [
      "[-0.04978847  0.04070776 -0.0367953   0.00377045  0.00076865  0.30607929\n",
      "  0.06662241 -0.01126052  0.00899668 -0.0153359  -0.00437527 -0.46615876]\n"
     ]
    }
   ],
   "source": [
    "# feature importance\n",
    "importance = clf.coef_[0]\n",
    "print(importance)"
   ]
  },
  {
   "cell_type": "code",
   "execution_count": 35,
   "metadata": {},
   "outputs": [
    {
     "name": "stderr",
     "output_type": "stream",
     "text": [
      "/home/jacob/.local/share/virtualenvs/mlflow_prac-rRmHmFzQ/lib/python3.8/site-packages/sklearn/base.py:443: UserWarning: X has feature names, but LogisticRegression was fitted without feature names\n",
      "  warnings.warn(\n"
     ]
    },
    {
     "data": {
      "text/plain": [
       "array([1, 1, 1, 0, 0, 0, 1])"
      ]
     },
     "execution_count": 35,
     "metadata": {},
     "output_type": "execute_result"
    }
   ],
   "source": [
    "clf.predict(tonights_games)"
   ]
  },
  {
   "cell_type": "code",
   "execution_count": 51,
   "metadata": {},
   "outputs": [
    {
     "name": "stderr",
     "output_type": "stream",
     "text": [
      "/home/jacob/.local/share/virtualenvs/mlflow_prac-rRmHmFzQ/lib/python3.8/site-packages/sklearn/base.py:443: UserWarning: X has feature names, but LogisticRegression was fitted without feature names\n",
      "  warnings.warn(\n"
     ]
    },
    {
     "data": {
      "text/plain": [
       "array([[0.48876101, 0.51123899],\n",
       "       [0.2590111 , 0.7409889 ],\n",
       "       [0.27315915, 0.72684085],\n",
       "       [0.56128013, 0.43871987],\n",
       "       [0.57157408, 0.42842592],\n",
       "       [0.77698252, 0.22301748],\n",
       "       [0.40668747, 0.59331253]])"
      ]
     },
     "execution_count": 51,
     "metadata": {},
     "output_type": "execute_result"
    }
   ],
   "source": [
    "clf.predict_proba(tonights_games)"
   ]
  },
  {
   "cell_type": "code",
   "execution_count": 68,
   "metadata": {},
   "outputs": [
    {
     "name": "stderr",
     "output_type": "stream",
     "text": [
      "/home/jacob/.local/share/virtualenvs/mlflow_prac-rRmHmFzQ/lib/python3.8/site-packages/sklearn/base.py:443: UserWarning: X has feature names, but LogisticRegression was fitted without feature names\n",
      "  warnings.warn(\n"
     ]
    }
   ],
   "source": [
    "tonights_ml = pd.DataFrame(clf.predict_proba(tonights_games)).rename(columns = {0: \"away_team_predicted_win_pct\", 1: \"home_team_predicted_win_pct\"})\n",
    "\n",
    "tonights_games_final = tonights_games_full.reset_index().drop('outcome', axis = 1)\n",
    "\n",
    "tonights_games_final['home_team_predicted_win_pct'] = tonights_ml['home_team_predicted_win_pct'].round(3)\n",
    "tonights_games_final['away_team_predicted_win_pct'] = tonights_ml['away_team_predicted_win_pct'].round(3)"
   ]
  }
 ],
 "metadata": {
  "interpreter": {
   "hash": "a61b151ffcd4a3c208c6f67928ef35857e58796994cc938237a523383dff623c"
  },
  "kernelspec": {
   "display_name": "Python 3.8.10 ('mlflow_prac-rRmHmFzQ')",
   "language": "python",
   "name": "python3"
  },
  "language_info": {
   "codemirror_mode": {
    "name": "ipython",
    "version": 3
   },
   "file_extension": ".py",
   "mimetype": "text/x-python",
   "name": "python",
   "nbconvert_exporter": "python",
   "pygments_lexer": "ipython3",
   "version": "3.8.10"
  },
  "orig_nbformat": 4
 },
 "nbformat": 4,
 "nbformat_minor": 2
}
