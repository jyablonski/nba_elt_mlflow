{
 "cells": [
  {
   "cell_type": "code",
   "execution_count": 1,
   "metadata": {},
   "outputs": [],
   "source": [
    "# run(nba, model=SVC(random_state=0))\n",
    "import datetime\n",
    "import string\n",
    "import numpy as np\n",
    "import pandas as pd\n",
    "from sklearn.svm import LinearSVC\n",
    "from sklearn.linear_model import LogisticRegression\n",
    "from sklearn.ensemble import RandomForestClassifier\n",
    "from sklearn.svm import SVC\n",
    "from sklearn.metrics import accuracy_score, log_loss, recall_score, precision_score\n",
    "from sklearn.pipeline import Pipeline\n",
    "from sklearn.preprocessing import MinMaxScaler, LabelEncoder\n",
    "from sklearn.model_selection import train_test_split\n",
    "import mlflow\n",
    "import mlflow.sklearn\n",
    "import matplotlib.pyplot as plt\n",
    "from utils import *\n",
    "\n",
    "# run(nba, model=SVC(random_state=0))\n",
    "# Tuned SVC - rbf kernel\n",
    "# model = SVC(kernel=kernels[0], random_state=0)\n",
    "# run(nba, model=model)"
   ]
  },
  {
   "cell_type": "code",
   "execution_count": 2,
   "metadata": {},
   "outputs": [],
   "source": [
    "conn = sql_connection('ml_models')\n",
    "past_games = pd.read_sql_query('select * from ml_past_games', conn)\n",
    "tonights_games = pd.read_sql_query('select * from ml_tonights_games', conn)\n",
    "completed_ml = pd.read_sql_query('select * from tonights_games_ml', conn)\n",
    "\n",
    "past_games_full = pd.read_sql_query('select * from ml_past_games', conn)\n",
    "tonights_games_full = pd.read_sql_query('select * from ml_tonights_games', conn).sort_values('home_team_avg_pts_scored')\n",
    "tonights_games = tonights_games_full.drop(['home_team', 'away_team', 'proper_date', 'outcome'], axis = 1)\n",
    "# completed_games = completed_games.to_numpy()\n",
    "# tonights_games = tonights_games.to_numpy()\n",
    "\n",
    "past_games = pd.read_sql_query('select * from ml_past_games', conn)\n",
    "past_games_outcome = past_games['outcome']\n",
    "past_games = past_games.drop(['home_team', 'away_team', 'proper_date', 'outcome'], axis = 1)\n",
    "\n",
    "past_games_outcome = past_games_outcome.to_numpy()\n",
    "past_games = past_games.to_numpy()"
   ]
  },
  {
   "cell_type": "code",
   "execution_count": 22,
   "metadata": {},
   "outputs": [
    {
     "name": "stdout",
     "output_type": "stream",
     "text": [
      "Linear SVC score was 0.5912951167728238\n",
      "SVC score was 0.6613588110403397\n",
      "Logistic Regression score was 0.667728237791932\n"
     ]
    },
    {
     "name": "stderr",
     "output_type": "stream",
     "text": [
      "/home/jacob/.local/share/virtualenvs/mlflow_prac-rRmHmFzQ/lib/python3.8/site-packages/sklearn/svm/_base.py:1206: ConvergenceWarning: Liblinear failed to converge, increase the number of iterations.\n",
      "  warnings.warn(\n",
      "/home/jacob/.local/share/virtualenvs/mlflow_prac-rRmHmFzQ/lib/python3.8/site-packages/sklearn/linear_model/_logistic.py:814: ConvergenceWarning: lbfgs failed to converge (status=1):\n",
      "STOP: TOTAL NO. of ITERATIONS REACHED LIMIT.\n",
      "\n",
      "Increase the number of iterations (max_iter) or scale the data as shown in:\n",
      "    https://scikit-learn.org/stable/modules/preprocessing.html\n",
      "Please also refer to the documentation for alternative solver options:\n",
      "    https://scikit-learn.org/stable/modules/linear_model.html#logistic-regression\n",
      "  n_iter_i = _check_optimize_result(\n"
     ]
    }
   ],
   "source": [
    "clf_linear_svc = LinearSVC(random_state=0).fit(past_games, past_games_outcome)\n",
    "clf_svc = SVC(random_state=0).fit(past_games, past_games_outcome)\n",
    "clf = LogisticRegression(random_state=0).fit(past_games, past_games_outcome)\n",
    "\n",
    "print(f\"Linear SVC score was {clf_linear_svc.score(past_games, past_games_outcome)}\")\n",
    "print(f\"SVC score was {clf_svc.score(past_games, past_games_outcome)}\")\n",
    "print(f\"Logistic Regression score was {clf.score(past_games, past_games_outcome)}\")"
   ]
  },
  {
   "cell_type": "code",
   "execution_count": null,
   "metadata": {},
   "outputs": [],
   "source": []
  },
  {
   "cell_type": "code",
   "execution_count": 15,
   "metadata": {},
   "outputs": [
    {
     "data": {
      "text/plain": [
       "['clf_svc_model.joblib']"
      ]
     },
     "execution_count": 15,
     "metadata": {},
     "output_type": "execute_result"
    }
   ],
   "source": [
    "import pickle\n",
    "clf_linear_svc_pickle = pickle.dumps(clf_linear_svc)\n",
    "clf_linear_svc_pickle = pickle.loads(clf_linear_svc_pickle)\n",
    "\n",
    "from joblib import dump, load # more efficient for large numpy arrays\n",
    "dump(clf, 'clf_model.joblib') \n",
    "dump(clf_linear_svc, 'clf_linear_svc_model.joblib') \n",
    "dump(clf_svc, 'clf_svc_model.joblib')"
   ]
  },
  {
   "cell_type": "code",
   "execution_count": null,
   "metadata": {},
   "outputs": [],
   "source": [
    "clf_svc = LogisticRegression(random_state=0).fit(past_games, past_games_outcome)\n",
    "clf_svc.score(past_games, past_games_outcome)"
   ]
  },
  {
   "cell_type": "code",
   "execution_count": 44,
   "metadata": {},
   "outputs": [
    {
     "name": "stdout",
     "output_type": "stream",
     "text": [
      "[-0.04978847  0.04070776 -0.0367953   0.00377045  0.00076865  0.30607929\n",
      "  0.06662241 -0.01126052  0.00899668 -0.0153359  -0.00437527 -0.46615876]\n"
     ]
    }
   ],
   "source": [
    "# feature importance\n",
    "importance = clf.coef_[0]\n",
    "print(importance)"
   ]
  },
  {
   "cell_type": "code",
   "execution_count": 35,
   "metadata": {},
   "outputs": [
    {
     "name": "stderr",
     "output_type": "stream",
     "text": [
      "/home/jacob/.local/share/virtualenvs/mlflow_prac-rRmHmFzQ/lib/python3.8/site-packages/sklearn/base.py:443: UserWarning: X has feature names, but LogisticRegression was fitted without feature names\n",
      "  warnings.warn(\n"
     ]
    },
    {
     "data": {
      "text/plain": [
       "array([1, 1, 1, 0, 0, 0, 1])"
      ]
     },
     "execution_count": 35,
     "metadata": {},
     "output_type": "execute_result"
    }
   ],
   "source": [
    "clf.predict(tonights_games)"
   ]
  },
  {
   "cell_type": "code",
   "execution_count": 51,
   "metadata": {},
   "outputs": [
    {
     "name": "stderr",
     "output_type": "stream",
     "text": [
      "/home/jacob/.local/share/virtualenvs/mlflow_prac-rRmHmFzQ/lib/python3.8/site-packages/sklearn/base.py:443: UserWarning: X has feature names, but LogisticRegression was fitted without feature names\n",
      "  warnings.warn(\n"
     ]
    },
    {
     "data": {
      "text/plain": [
       "array([[0.48876101, 0.51123899],\n",
       "       [0.2590111 , 0.7409889 ],\n",
       "       [0.27315915, 0.72684085],\n",
       "       [0.56128013, 0.43871987],\n",
       "       [0.57157408, 0.42842592],\n",
       "       [0.77698252, 0.22301748],\n",
       "       [0.40668747, 0.59331253]])"
      ]
     },
     "execution_count": 51,
     "metadata": {},
     "output_type": "execute_result"
    }
   ],
   "source": [
    "clf.predict_proba(tonights_games)"
   ]
  },
  {
   "cell_type": "code",
   "execution_count": 68,
   "metadata": {},
   "outputs": [
    {
     "name": "stderr",
     "output_type": "stream",
     "text": [
      "/home/jacob/.local/share/virtualenvs/mlflow_prac-rRmHmFzQ/lib/python3.8/site-packages/sklearn/base.py:443: UserWarning: X has feature names, but LogisticRegression was fitted without feature names\n",
      "  warnings.warn(\n"
     ]
    }
   ],
   "source": [
    "tonights_ml = pd.DataFrame(clf.predict_proba(tonights_games)).rename(columns = {0: \"away_team_predicted_win_pct\", 1: \"home_team_predicted_win_pct\"})\n",
    "\n",
    "tonights_games_final = tonights_games_full.reset_index().drop('outcome', axis = 1)\n",
    "\n",
    "tonights_games_final['home_team_predicted_win_pct'] = tonights_ml['home_team_predicted_win_pct'].round(3)\n",
    "tonights_games_final['away_team_predicted_win_pct'] = tonights_ml['away_team_predicted_win_pct'].round(3)"
   ]
  },
  {
   "cell_type": "code",
   "execution_count": 26,
   "metadata": {},
   "outputs": [
    {
     "data": {
      "text/plain": [
       "Pipeline(steps=[('scaler', MinMaxScaler()), ('model', LogisticRegression())])"
      ]
     },
     "execution_count": 26,
     "metadata": {},
     "output_type": "execute_result"
    }
   ],
   "source": [
    "################### mlflow\n",
    "model_pipeline = Pipeline(steps=[('scaler', MinMaxScaler()), ('model', LogisticRegression())])\n",
    "model_pipeline.fit(past_games, past_games_outcome)"
   ]
  },
  {
   "cell_type": "code",
   "execution_count": 21,
   "metadata": {},
   "outputs": [
    {
     "name": "stdout",
     "output_type": "stream",
     "text": [
      "Active run_id: bf2de72fb09a4e8c9b61fe79bf054944\n"
     ]
    }
   ],
   "source": [
    "# run mlflow ui in nba_elt_mlflow/practice\n",
    "# https://medium.com/analytics-vidhya/machine-learning-model-workflow-and-tracking-using-mlflow-777c1df0a4cc\n",
    "# ml flow tracks the model, the training/test data acurracy, the parameters, and the tags\n",
    "past_games_df = pd.DataFrame(past_games)\n",
    "past_games_df.to_csv('past_games.csv', index = False)\n",
    "\n",
    "X_train, X_test, y_train, y_test = train_test_split(past_games, past_games_outcome, test_size=0.5)\n",
    "mlflow.set_experiment(\"Test mlflow feature\")\n",
    "with mlflow.start_run():\n",
    "    run = mlflow.active_run()\n",
    "    run_id = run.info.run_id\n",
    "    print(f\"Active run_id: {run.info.run_id}\")\n",
    "\n",
    "    # dont do this\n",
    "    # mlflow.set_tag(\"tag\",\"nba_elt_pipeline\")\n",
    "    # mlflow.set_tag(\"tag\",\"prod\")\n",
    "    mlflow.set_tags({\"version\": \"1.0.0\",\n",
    "                    \"project\": \"nba_elt_pipeline\",\n",
    "                    \"run_type\": \"prod\",\n",
    "    })\n",
    "\n",
    "    mlflow.log_artifact(\"past_games.csv\", artifact_path=\"features\")\n",
    "\n",
    "    clf = RandomForestClassifier(n_estimators=12, random_state=0)\n",
    "\n",
    "    mlflow.log_param(\"number of estimators\", 12)\n",
    "\n",
    "    clf.fit(X_train, y_train)\n",
    "\n",
    "    y_pred = clf.predict(X_train)\n",
    "    acc = accuracy_score(y_test, y_pred)\n",
    "    mlflow.log_metric(\"testing data accuracy\", acc)\n",
    "\n",
    "    y_pred = clf.predict(X_test)\n",
    "\n",
    "    acc = accuracy_score(y_test, y_pred)\n",
    "\n",
    "    mlflow.log_metric(\"training data accuracy\",acc)\n",
    "\n",
    "    mlflow.sklearn.log_model(clf, artifact_path=\"sklearn-model\")"
   ]
  },
  {
   "cell_type": "code",
   "execution_count": 12,
   "metadata": {},
   "outputs": [
    {
     "data": {
      "text/plain": [
       "0.5732484076433121"
      ]
     },
     "execution_count": 12,
     "metadata": {},
     "output_type": "execute_result"
    }
   ],
   "source": [
    "acc"
   ]
  },
  {
   "cell_type": "code",
   "execution_count": 29,
   "metadata": {},
   "outputs": [
    {
     "name": "stdout",
     "output_type": "stream",
     "text": [
      "The predicted value is [1]\n"
     ]
    }
   ],
   "source": [
    "# logged_model = f\"mlruns/1/{run_id}/artifacts/sklearn-model/MLmodel\"\n",
    "sample1 = past_games[0].reshape(1, -1)\n",
    "logged_model = f\"mlruns/1/ff269f383b484c92b9e0b69aa1f8a826/artifacts/sklearn-model\"\n",
    "loaded_model = mlflow.pyfunc.load_model(logged_model)\n",
    "\n",
    "sample=sample1\n",
    "y_pred=loaded_model.predict(sample)\n",
    "print(f\"The predicted value is {y_pred}\")"
   ]
  }
 ],
 "metadata": {
  "interpreter": {
   "hash": "a61b151ffcd4a3c208c6f67928ef35857e58796994cc938237a523383dff623c"
  },
  "kernelspec": {
   "display_name": "Python 3.8.10 ('mlflow_prac-rRmHmFzQ')",
   "language": "python",
   "name": "python3"
  },
  "language_info": {
   "codemirror_mode": {
    "name": "ipython",
    "version": 3
   },
   "file_extension": ".py",
   "mimetype": "text/x-python",
   "name": "python",
   "nbconvert_exporter": "python",
   "pygments_lexer": "ipython3",
   "version": "3.8.10"
  },
  "orig_nbformat": 4
 },
 "nbformat": 4,
 "nbformat_minor": 2
}
